
{
 "cells": [
  {
   "cell_type": "code",
   "execution_count": null,
   "metadata": {},
   "outputs": [],
   "source": [
    "#-*- coding: utf-8 -*-\n",
    "\n",
    "#!/usr/bin/python3\n",
    "\n",
    "import file_processing as fp\n",
    "from gensim.models import Word2Vec\n",
    "import parameters as parm\n"
   ]
  },
  {
   "cell_type": "code",
   "execution_count": null,
   "metadata": {},
   "outputs": [],
   "source": [
    "\n",
    "# 這裡將文本(corpus)轉成[['sentence1'], ['sentence2'], ['sentence3'],...]\n",
    "corpus = fp.file_to_sentences(parm.orig_Txt)\n",
    "\n"
   ]
  },
  {
   "cell_type": "code",
   "execution_count": null,
   "metadata": {},
   "outputs": [],
   "source": [
    "# 訓練模型\n",
    "'''\n",
    "    min_count:某word出現最低頻率為5\n",
    "    sg: 決定是用skip-gram or bag of words\n",
    "'''\n",
    "model = Word2Vec(corpus, min_count=5, sg=1)\n"
   ]
  },
  {
   "cell_type": "code",
   "execution_count": null,
   "metadata": {},
   "outputs": [],
   "source": [
    "# 儲存model : model.save(dir)\n",
    "model.save('save_model')\n",
    "\n",
    "# 使用儲存起來的model\n",
    "model = Word2Vec.load('save_model')\n",
    "\n",
    "# 一些model的資訊\n",
    "print(model)\n",
    "\n",
    "# 所有參與train model的字\n",
    "for word in model.wv.vocab:\n",
    "    print(word)\n",
    "\n",
    "print('-------------------')\n",
    "\n",
    "# popcorn 這個字的向量\n",
    "print(model['popcorn'])\n"
   ]
  }
 ],
 "metadata": {
  "kernelspec": {
   "display_name": "Python 3",
   "language": "python",
   "name": "python3"
  },
  "language_info": {
   "codemirror_mode": {
    "name": "ipython",
    "version": 3
   },
   "file_extension": ".py",
   "mimetype": "text/x-python",
   "name": "python",
   "nbconvert_exporter": "python",
   "pygments_lexer": "ipython3",
   "version": "3.5.2"
  }
 },
 "nbformat": 4,
 "nbformat_minor": 2
}
